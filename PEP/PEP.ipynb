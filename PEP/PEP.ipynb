{
 "cells": [
  {
   "cell_type": "markdown",
   "metadata": {},
   "source": [
    "#Automacao PEP"
   ]
  },
  {
   "cell_type": "code",
   "execution_count": 1,
   "metadata": {},
   "outputs": [],
   "source": [
    "import pandas as pd\n",
    "import os"
   ]
  },
  {
   "cell_type": "code",
   "execution_count": 2,
   "metadata": {},
   "outputs": [
    {
     "data": {
      "text/plain": [
       "'C:\\\\Users\\\\A0161597\\\\Downloads'"
      ]
     },
     "execution_count": 2,
     "metadata": {},
     "output_type": "execute_result"
    }
   ],
   "source": [
    "# Path do arquivo - Só muda caminho\n",
    "caminho = r'C:\\Users\\A0161597\\Downloads'\n",
    "caminho"
   ]
  },
  {
   "cell_type": "code",
   "execution_count": 8,
   "metadata": {},
   "outputs": [
    {
     "data": {
      "text/plain": [
       "'C:\\\\Users\\\\A0161597\\\\Downloads\\\\Zges.txt'"
      ]
     },
     "execution_count": 8,
     "metadata": {},
     "output_type": "execute_result"
    }
   ],
   "source": [
    "file = os.path.join(caminho, 'Zges.txt')\n",
    "file"
   ]
  },
  {
   "cell_type": "code",
   "execution_count": 32,
   "metadata": {},
   "outputs": [],
   "source": [
    "\n",
    "df = pd.read_csv(file, sep='\\t', encoding='latin1', engine='python', on_bad_lines='skip', header= 1)\n"
   ]
  },
  {
   "cell_type": "code",
   "execution_count": null,
   "metadata": {},
   "outputs": [
    {
     "name": "stderr",
     "output_type": "stream",
     "text": [
      "C:\\Users\\A0161597\\AppData\\Local\\Temp\\ipykernel_32516\\643879706.py:3: SettingWithCopyWarning: \n",
      "A value is trying to be set on a copy of a slice from a DataFrame\n",
      "\n",
      "See the caveats in the documentation: https://pandas.pydata.org/pandas-docs/stable/user_guide/indexing.html#returning-a-view-versus-a-copy\n",
      "  df2.rename(columns={\n",
      "C:\\Users\\A0161597\\AppData\\Local\\Temp\\ipykernel_32516\\643879706.py:9: SettingWithCopyWarning: \n",
      "A value is trying to be set on a copy of a slice from a DataFrame.\n",
      "Try using .loc[row_indexer,col_indexer] = value instead\n",
      "\n",
      "See the caveats in the documentation: https://pandas.pydata.org/pandas-docs/stable/user_guide/indexing.html#returning-a-view-versus-a-copy\n",
      "  df2[['col1', 'col2', 'Ano_pep']] = df2['PEP1'].str.split('-', n=2, expand=True)\n",
      "C:\\Users\\A0161597\\AppData\\Local\\Temp\\ipykernel_32516\\643879706.py:9: SettingWithCopyWarning: \n",
      "A value is trying to be set on a copy of a slice from a DataFrame.\n",
      "Try using .loc[row_indexer,col_indexer] = value instead\n",
      "\n",
      "See the caveats in the documentation: https://pandas.pydata.org/pandas-docs/stable/user_guide/indexing.html#returning-a-view-versus-a-copy\n",
      "  df2[['col1', 'col2', 'Ano_pep']] = df2['PEP1'].str.split('-', n=2, expand=True)\n",
      "C:\\Users\\A0161597\\AppData\\Local\\Temp\\ipykernel_32516\\643879706.py:9: SettingWithCopyWarning: \n",
      "A value is trying to be set on a copy of a slice from a DataFrame.\n",
      "Try using .loc[row_indexer,col_indexer] = value instead\n",
      "\n",
      "See the caveats in the documentation: https://pandas.pydata.org/pandas-docs/stable/user_guide/indexing.html#returning-a-view-versus-a-copy\n",
      "  df2[['col1', 'col2', 'Ano_pep']] = df2['PEP1'].str.split('-', n=2, expand=True)\n",
      "C:\\Users\\A0161597\\AppData\\Local\\Temp\\ipykernel_32516\\643879706.py:10: SettingWithCopyWarning: \n",
      "A value is trying to be set on a copy of a slice from a DataFrame.\n",
      "Try using .loc[row_indexer,col_indexer] = value instead\n",
      "\n",
      "See the caveats in the documentation: https://pandas.pydata.org/pandas-docs/stable/user_guide/indexing.html#returning-a-view-versus-a-copy\n",
      "  df2['col22'] = df2['col2'].str.slice(0, 3)\n",
      "C:\\Users\\A0161597\\AppData\\Local\\Temp\\ipykernel_32516\\643879706.py:11: SettingWithCopyWarning: \n",
      "A value is trying to be set on a copy of a slice from a DataFrame.\n",
      "Try using .loc[row_indexer,col_indexer] = value instead\n",
      "\n",
      "See the caveats in the documentation: https://pandas.pydata.org/pandas-docs/stable/user_guide/indexing.html#returning-a-view-versus-a-copy\n",
      "  df2['NUMERO'] = df2['col2'].str.slice(-3)\n",
      "C:\\Users\\A0161597\\AppData\\Local\\Temp\\ipykernel_32516\\643879706.py:12: SettingWithCopyWarning: \n",
      "A value is trying to be set on a copy of a slice from a DataFrame.\n",
      "Try using .loc[row_indexer,col_indexer] = value instead\n",
      "\n",
      "See the caveats in the documentation: https://pandas.pydata.org/pandas-docs/stable/user_guide/indexing.html#returning-a-view-versus-a-copy\n",
      "  df2['SIGLA'] = df2['col1'] + '-' + df2['col22']\n"
     ]
    }
   ],
   "source": [
    "\n",
    "df = pd.read_csv(file, sep='\\t', encoding='latin1', engine='python', on_bad_lines='skip', header= 1)\n",
    "\n",
    "\n",
    "df2 = df[['Código de Projeto', 'Descrição do Projeto', 'Gestor']]\n",
    "\n",
    "df2.rename(columns={\n",
    "    'Código de Projeto' : 'PEP1',\n",
    "    'Descrição do Projeto' : 'DESCR_PEP1',\n",
    "    'Gestor': 'GESTOR'\n",
    "}, inplace=True)\n",
    "\n",
    "df2[['col1', 'col2', 'Ano_pep']] = df2['PEP1'].str.split('-', n=2, expand=True)\n",
    "df2['col22'] = df2['col2'].str.slice(0, 3)\n",
    "df2['NUMERO'] = df2['col2'].str.slice(-3)\n",
    "df2['SIGLA'] = df2['col1'] + '-' + df2['col22'] \n",
    "\n",
    "df3 = df2[['PEP1', 'Ano_pep', 'SIGLA', 'NUMERO', 'DESCR_PEP1', 'GESTOR']]\n",
    "df3.dropna()\n",
    "df3 = df3.dropna(subset=['PEP1'])\n",
    "\n",
    "pattern = r'^[A-Z]{3}-[A-Z0-9]{6}-[0-9]{2}$'\n",
    "df3 = df3[df3['PEP1'].str.match(pattern)]\n",
    "df3.to_excel('text.xlsx',index=False)"
   ]
  },
  {
   "cell_type": "code",
   "execution_count": null,
   "metadata": {},
   "outputs": [],
   "source": []
  }
 ],
 "metadata": {
  "kernelspec": {
   "display_name": "Python 3",
   "language": "python",
   "name": "python3"
  },
  "language_info": {
   "codemirror_mode": {
    "name": "ipython",
    "version": 3
   },
   "file_extension": ".py",
   "mimetype": "text/x-python",
   "name": "python",
   "nbconvert_exporter": "python",
   "pygments_lexer": "ipython3",
   "version": "3.12.0"
  }
 },
 "nbformat": 4,
 "nbformat_minor": 2
}
